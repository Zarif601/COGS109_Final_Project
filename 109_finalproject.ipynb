{
 "cells": [
  {
   "cell_type": "code",
   "execution_count": 47,
   "metadata": {},
   "outputs": [],
   "source": [
    "import pandas as pd\n",
    "import matplotlib.pyplot as plt\n",
    "import numpy as np\n",
    "import statistics as stats\n",
    "from sklearn.model_selection import train_test_split\n",
    "plt.rcParams['figure.figsize'] = (10,10)\n",
    "%matplotlib inline"
   ]
  },
  {
   "cell_type": "code",
   "execution_count": 48,
   "metadata": {},
   "outputs": [
    {
     "data": {
      "text/html": [
       "<div>\n",
       "<style scoped>\n",
       "    .dataframe tbody tr th:only-of-type {\n",
       "        vertical-align: middle;\n",
       "    }\n",
       "\n",
       "    .dataframe tbody tr th {\n",
       "        vertical-align: top;\n",
       "    }\n",
       "\n",
       "    .dataframe thead th {\n",
       "        text-align: right;\n",
       "    }\n",
       "</style>\n",
       "<table border=\"1\" class=\"dataframe\">\n",
       "  <thead>\n",
       "    <tr style=\"text-align: right;\">\n",
       "      <th></th>\n",
       "      <th>list_price</th>\n",
       "      <th>num_reviews</th>\n",
       "      <th>piece_count</th>\n",
       "      <th>play_star_rating</th>\n",
       "      <th>star_rating</th>\n",
       "      <th>val_star_rating</th>\n",
       "    </tr>\n",
       "  </thead>\n",
       "  <tbody>\n",
       "    <tr>\n",
       "      <th>0</th>\n",
       "      <td>29.9900</td>\n",
       "      <td>2.0</td>\n",
       "      <td>277.0</td>\n",
       "      <td>4.0</td>\n",
       "      <td>4.5</td>\n",
       "      <td>4.0</td>\n",
       "    </tr>\n",
       "    <tr>\n",
       "      <th>1</th>\n",
       "      <td>19.9900</td>\n",
       "      <td>2.0</td>\n",
       "      <td>168.0</td>\n",
       "      <td>4.0</td>\n",
       "      <td>5.0</td>\n",
       "      <td>4.0</td>\n",
       "    </tr>\n",
       "    <tr>\n",
       "      <th>2</th>\n",
       "      <td>12.9900</td>\n",
       "      <td>11.0</td>\n",
       "      <td>74.0</td>\n",
       "      <td>4.3</td>\n",
       "      <td>4.3</td>\n",
       "      <td>4.1</td>\n",
       "    </tr>\n",
       "    <tr>\n",
       "      <th>3</th>\n",
       "      <td>99.9900</td>\n",
       "      <td>23.0</td>\n",
       "      <td>1032.0</td>\n",
       "      <td>3.6</td>\n",
       "      <td>4.6</td>\n",
       "      <td>4.3</td>\n",
       "    </tr>\n",
       "    <tr>\n",
       "      <th>4</th>\n",
       "      <td>79.9900</td>\n",
       "      <td>14.0</td>\n",
       "      <td>744.0</td>\n",
       "      <td>3.2</td>\n",
       "      <td>4.6</td>\n",
       "      <td>4.1</td>\n",
       "    </tr>\n",
       "    <tr>\n",
       "      <th>5</th>\n",
       "      <td>59.9900</td>\n",
       "      <td>7.0</td>\n",
       "      <td>597.0</td>\n",
       "      <td>3.7</td>\n",
       "      <td>4.9</td>\n",
       "      <td>4.4</td>\n",
       "    </tr>\n",
       "    <tr>\n",
       "      <th>6</th>\n",
       "      <td>59.9900</td>\n",
       "      <td>37.0</td>\n",
       "      <td>598.0</td>\n",
       "      <td>3.7</td>\n",
       "      <td>4.2</td>\n",
       "      <td>4.1</td>\n",
       "    </tr>\n",
       "    <tr>\n",
       "      <th>7</th>\n",
       "      <td>49.9900</td>\n",
       "      <td>24.0</td>\n",
       "      <td>780.0</td>\n",
       "      <td>4.4</td>\n",
       "      <td>4.7</td>\n",
       "      <td>4.3</td>\n",
       "    </tr>\n",
       "    <tr>\n",
       "      <th>8</th>\n",
       "      <td>39.9900</td>\n",
       "      <td>23.0</td>\n",
       "      <td>468.0</td>\n",
       "      <td>3.6</td>\n",
       "      <td>4.7</td>\n",
       "      <td>4.1</td>\n",
       "    </tr>\n",
       "    <tr>\n",
       "      <th>9</th>\n",
       "      <td>39.9900</td>\n",
       "      <td>11.0</td>\n",
       "      <td>444.0</td>\n",
       "      <td>3.6</td>\n",
       "      <td>4.8</td>\n",
       "      <td>4.5</td>\n",
       "    </tr>\n",
       "    <tr>\n",
       "      <th>10</th>\n",
       "      <td>39.9900</td>\n",
       "      <td>14.0</td>\n",
       "      <td>386.0</td>\n",
       "      <td>4.1</td>\n",
       "      <td>4.4</td>\n",
       "      <td>3.6</td>\n",
       "    </tr>\n",
       "    <tr>\n",
       "      <th>11</th>\n",
       "      <td>34.9900</td>\n",
       "      <td>53.0</td>\n",
       "      <td>321.0</td>\n",
       "      <td>3.2</td>\n",
       "      <td>4.6</td>\n",
       "      <td>4.4</td>\n",
       "    </tr>\n",
       "    <tr>\n",
       "      <th>12</th>\n",
       "      <td>29.9900</td>\n",
       "      <td>7.0</td>\n",
       "      <td>361.0</td>\n",
       "      <td>4.2</td>\n",
       "      <td>4.6</td>\n",
       "      <td>4.2</td>\n",
       "    </tr>\n",
       "    <tr>\n",
       "      <th>13</th>\n",
       "      <td>159.9900</td>\n",
       "      <td>63.0</td>\n",
       "      <td>847.0</td>\n",
       "      <td>3.8</td>\n",
       "      <td>3.4</td>\n",
       "      <td>3.5</td>\n",
       "    </tr>\n",
       "    <tr>\n",
       "      <th>14</th>\n",
       "      <td>29.9900</td>\n",
       "      <td>13.0</td>\n",
       "      <td>708.0</td>\n",
       "      <td>4.7</td>\n",
       "      <td>4.8</td>\n",
       "      <td>4.8</td>\n",
       "    </tr>\n",
       "    <tr>\n",
       "      <th>15</th>\n",
       "      <td>19.9900</td>\n",
       "      <td>1.0</td>\n",
       "      <td>234.0</td>\n",
       "      <td>3.0</td>\n",
       "      <td>5.0</td>\n",
       "      <td>5.0</td>\n",
       "    </tr>\n",
       "    <tr>\n",
       "      <th>16</th>\n",
       "      <td>19.9900</td>\n",
       "      <td>1.0</td>\n",
       "      <td>160.0</td>\n",
       "      <td>5.0</td>\n",
       "      <td>5.0</td>\n",
       "      <td>5.0</td>\n",
       "    </tr>\n",
       "    <tr>\n",
       "      <th>17</th>\n",
       "      <td>9.9900</td>\n",
       "      <td>1.0</td>\n",
       "      <td>149.0</td>\n",
       "      <td>2.0</td>\n",
       "      <td>3.0</td>\n",
       "      <td>4.0</td>\n",
       "    </tr>\n",
       "    <tr>\n",
       "      <th>18</th>\n",
       "      <td>9.9900</td>\n",
       "      <td>1.0</td>\n",
       "      <td>141.0</td>\n",
       "      <td>2.0</td>\n",
       "      <td>4.0</td>\n",
       "      <td>4.0</td>\n",
       "    </tr>\n",
       "    <tr>\n",
       "      <th>19</th>\n",
       "      <td>9.9900</td>\n",
       "      <td>3.0</td>\n",
       "      <td>101.0</td>\n",
       "      <td>4.0</td>\n",
       "      <td>4.7</td>\n",
       "      <td>4.5</td>\n",
       "    </tr>\n",
       "    <tr>\n",
       "      <th>20</th>\n",
       "      <td>9.9900</td>\n",
       "      <td>2.0</td>\n",
       "      <td>105.0</td>\n",
       "      <td>3.0</td>\n",
       "      <td>5.0</td>\n",
       "      <td>5.0</td>\n",
       "    </tr>\n",
       "    <tr>\n",
       "      <th>21</th>\n",
       "      <td>9.9900</td>\n",
       "      <td>1.0</td>\n",
       "      <td>113.0</td>\n",
       "      <td>5.0</td>\n",
       "      <td>5.0</td>\n",
       "      <td>5.0</td>\n",
       "    </tr>\n",
       "    <tr>\n",
       "      <th>22</th>\n",
       "      <td>9.9900</td>\n",
       "      <td>2.0</td>\n",
       "      <td>91.0</td>\n",
       "      <td>3.0</td>\n",
       "      <td>4.5</td>\n",
       "      <td>4.0</td>\n",
       "    </tr>\n",
       "    <tr>\n",
       "      <th>23</th>\n",
       "      <td>9.9900</td>\n",
       "      <td>7.0</td>\n",
       "      <td>140.0</td>\n",
       "      <td>3.2</td>\n",
       "      <td>4.9</td>\n",
       "      <td>4.7</td>\n",
       "    </tr>\n",
       "    <tr>\n",
       "      <th>24</th>\n",
       "      <td>9.9900</td>\n",
       "      <td>5.0</td>\n",
       "      <td>143.0</td>\n",
       "      <td>4.6</td>\n",
       "      <td>5.0</td>\n",
       "      <td>5.0</td>\n",
       "    </tr>\n",
       "    <tr>\n",
       "      <th>25</th>\n",
       "      <td>9.9900</td>\n",
       "      <td>3.0</td>\n",
       "      <td>122.0</td>\n",
       "      <td>2.7</td>\n",
       "      <td>4.0</td>\n",
       "      <td>3.0</td>\n",
       "    </tr>\n",
       "    <tr>\n",
       "      <th>26</th>\n",
       "      <td>9.9900</td>\n",
       "      <td>5.0</td>\n",
       "      <td>130.0</td>\n",
       "      <td>4.3</td>\n",
       "      <td>5.0</td>\n",
       "      <td>4.8</td>\n",
       "    </tr>\n",
       "    <tr>\n",
       "      <th>27</th>\n",
       "      <td>9.9900</td>\n",
       "      <td>3.0</td>\n",
       "      <td>119.0</td>\n",
       "      <td>4.5</td>\n",
       "      <td>5.0</td>\n",
       "      <td>4.5</td>\n",
       "    </tr>\n",
       "    <tr>\n",
       "      <th>28</th>\n",
       "      <td>9.9900</td>\n",
       "      <td>1.0</td>\n",
       "      <td>135.0</td>\n",
       "      <td>1.0</td>\n",
       "      <td>4.0</td>\n",
       "      <td>3.0</td>\n",
       "    </tr>\n",
       "    <tr>\n",
       "      <th>29</th>\n",
       "      <td>9.9900</td>\n",
       "      <td>2.0</td>\n",
       "      <td>108.0</td>\n",
       "      <td>3.5</td>\n",
       "      <td>5.0</td>\n",
       "      <td>4.0</td>\n",
       "    </tr>\n",
       "    <tr>\n",
       "      <th>...</th>\n",
       "      <td>...</td>\n",
       "      <td>...</td>\n",
       "      <td>...</td>\n",
       "      <td>...</td>\n",
       "      <td>...</td>\n",
       "      <td>...</td>\n",
       "    </tr>\n",
       "    <tr>\n",
       "      <th>10436</th>\n",
       "      <td>48.7878</td>\n",
       "      <td>5.0</td>\n",
       "      <td>267.0</td>\n",
       "      <td>3.6</td>\n",
       "      <td>3.2</td>\n",
       "      <td>3.4</td>\n",
       "    </tr>\n",
       "    <tr>\n",
       "      <th>10437</th>\n",
       "      <td>48.7878</td>\n",
       "      <td>12.0</td>\n",
       "      <td>293.0</td>\n",
       "      <td>4.9</td>\n",
       "      <td>4.8</td>\n",
       "      <td>4.6</td>\n",
       "    </tr>\n",
       "    <tr>\n",
       "      <th>10438</th>\n",
       "      <td>42.6878</td>\n",
       "      <td>24.0</td>\n",
       "      <td>305.0</td>\n",
       "      <td>4.5</td>\n",
       "      <td>4.8</td>\n",
       "      <td>4.4</td>\n",
       "    </tr>\n",
       "    <tr>\n",
       "      <th>10439</th>\n",
       "      <td>42.6878</td>\n",
       "      <td>18.0</td>\n",
       "      <td>254.0</td>\n",
       "      <td>4.2</td>\n",
       "      <td>4.2</td>\n",
       "      <td>4.4</td>\n",
       "    </tr>\n",
       "    <tr>\n",
       "      <th>10440</th>\n",
       "      <td>30.4878</td>\n",
       "      <td>2.0</td>\n",
       "      <td>198.0</td>\n",
       "      <td>4.0</td>\n",
       "      <td>4.5</td>\n",
       "      <td>4.0</td>\n",
       "    </tr>\n",
       "    <tr>\n",
       "      <th>10441</th>\n",
       "      <td>30.4878</td>\n",
       "      <td>8.0</td>\n",
       "      <td>204.0</td>\n",
       "      <td>4.1</td>\n",
       "      <td>4.4</td>\n",
       "      <td>4.1</td>\n",
       "    </tr>\n",
       "    <tr>\n",
       "      <th>10442</th>\n",
       "      <td>30.4878</td>\n",
       "      <td>19.0</td>\n",
       "      <td>201.0</td>\n",
       "      <td>4.1</td>\n",
       "      <td>4.6</td>\n",
       "      <td>4.4</td>\n",
       "    </tr>\n",
       "    <tr>\n",
       "      <th>10443</th>\n",
       "      <td>18.2878</td>\n",
       "      <td>7.0</td>\n",
       "      <td>141.0</td>\n",
       "      <td>4.0</td>\n",
       "      <td>4.1</td>\n",
       "      <td>4.4</td>\n",
       "    </tr>\n",
       "    <tr>\n",
       "      <th>10444</th>\n",
       "      <td>18.2878</td>\n",
       "      <td>18.0</td>\n",
       "      <td>124.0</td>\n",
       "      <td>4.5</td>\n",
       "      <td>4.7</td>\n",
       "      <td>4.6</td>\n",
       "    </tr>\n",
       "    <tr>\n",
       "      <th>10445</th>\n",
       "      <td>4.8678</td>\n",
       "      <td>13.0</td>\n",
       "      <td>8.0</td>\n",
       "      <td>4.3</td>\n",
       "      <td>4.8</td>\n",
       "      <td>4.0</td>\n",
       "    </tr>\n",
       "    <tr>\n",
       "      <th>10446</th>\n",
       "      <td>103.6878</td>\n",
       "      <td>9.0</td>\n",
       "      <td>643.0</td>\n",
       "      <td>4.4</td>\n",
       "      <td>4.8</td>\n",
       "      <td>3.5</td>\n",
       "    </tr>\n",
       "    <tr>\n",
       "      <th>10447</th>\n",
       "      <td>365.9878</td>\n",
       "      <td>88.0</td>\n",
       "      <td>4867.0</td>\n",
       "      <td>4.8</td>\n",
       "      <td>4.9</td>\n",
       "      <td>4.8</td>\n",
       "    </tr>\n",
       "    <tr>\n",
       "      <th>10448</th>\n",
       "      <td>225.6878</td>\n",
       "      <td>52.0</td>\n",
       "      <td>2295.0</td>\n",
       "      <td>4.7</td>\n",
       "      <td>4.9</td>\n",
       "      <td>4.8</td>\n",
       "    </tr>\n",
       "    <tr>\n",
       "      <th>10449</th>\n",
       "      <td>134.1878</td>\n",
       "      <td>15.0</td>\n",
       "      <td>1403.0</td>\n",
       "      <td>4.5</td>\n",
       "      <td>4.8</td>\n",
       "      <td>4.8</td>\n",
       "    </tr>\n",
       "    <tr>\n",
       "      <th>10450</th>\n",
       "      <td>103.6878</td>\n",
       "      <td>9.0</td>\n",
       "      <td>830.0</td>\n",
       "      <td>4.6</td>\n",
       "      <td>4.9</td>\n",
       "      <td>4.8</td>\n",
       "    </tr>\n",
       "    <tr>\n",
       "      <th>10451</th>\n",
       "      <td>103.6878</td>\n",
       "      <td>11.0</td>\n",
       "      <td>1202.0</td>\n",
       "      <td>4.7</td>\n",
       "      <td>4.5</td>\n",
       "      <td>4.4</td>\n",
       "    </tr>\n",
       "    <tr>\n",
       "      <th>10452</th>\n",
       "      <td>97.5878</td>\n",
       "      <td>6.0</td>\n",
       "      <td>914.0</td>\n",
       "      <td>4.8</td>\n",
       "      <td>4.8</td>\n",
       "      <td>4.7</td>\n",
       "    </tr>\n",
       "    <tr>\n",
       "      <th>10453</th>\n",
       "      <td>97.5878</td>\n",
       "      <td>19.0</td>\n",
       "      <td>944.0</td>\n",
       "      <td>3.6</td>\n",
       "      <td>4.2</td>\n",
       "      <td>4.6</td>\n",
       "    </tr>\n",
       "    <tr>\n",
       "      <th>10454</th>\n",
       "      <td>82.9478</td>\n",
       "      <td>8.0</td>\n",
       "      <td>876.0</td>\n",
       "      <td>4.7</td>\n",
       "      <td>5.0</td>\n",
       "      <td>4.6</td>\n",
       "    </tr>\n",
       "    <tr>\n",
       "      <th>10455</th>\n",
       "      <td>73.1878</td>\n",
       "      <td>8.0</td>\n",
       "      <td>747.0</td>\n",
       "      <td>4.3</td>\n",
       "      <td>4.5</td>\n",
       "      <td>4.5</td>\n",
       "    </tr>\n",
       "    <tr>\n",
       "      <th>10456</th>\n",
       "      <td>60.9878</td>\n",
       "      <td>7.0</td>\n",
       "      <td>521.0</td>\n",
       "      <td>4.7</td>\n",
       "      <td>4.3</td>\n",
       "      <td>5.0</td>\n",
       "    </tr>\n",
       "    <tr>\n",
       "      <th>10457</th>\n",
       "      <td>60.9878</td>\n",
       "      <td>29.0</td>\n",
       "      <td>544.0</td>\n",
       "      <td>4.6</td>\n",
       "      <td>4.7</td>\n",
       "      <td>4.5</td>\n",
       "    </tr>\n",
       "    <tr>\n",
       "      <th>10458</th>\n",
       "      <td>48.7878</td>\n",
       "      <td>21.0</td>\n",
       "      <td>494.0</td>\n",
       "      <td>4.6</td>\n",
       "      <td>4.5</td>\n",
       "      <td>4.8</td>\n",
       "    </tr>\n",
       "    <tr>\n",
       "      <th>10459</th>\n",
       "      <td>36.5878</td>\n",
       "      <td>10.0</td>\n",
       "      <td>312.0</td>\n",
       "      <td>3.5</td>\n",
       "      <td>4.0</td>\n",
       "      <td>3.6</td>\n",
       "    </tr>\n",
       "    <tr>\n",
       "      <th>10460</th>\n",
       "      <td>36.5878</td>\n",
       "      <td>8.0</td>\n",
       "      <td>341.0</td>\n",
       "      <td>4.2</td>\n",
       "      <td>4.6</td>\n",
       "      <td>4.5</td>\n",
       "    </tr>\n",
       "    <tr>\n",
       "      <th>10461</th>\n",
       "      <td>36.5878</td>\n",
       "      <td>6.0</td>\n",
       "      <td>341.0</td>\n",
       "      <td>4.4</td>\n",
       "      <td>4.3</td>\n",
       "      <td>4.2</td>\n",
       "    </tr>\n",
       "    <tr>\n",
       "      <th>10462</th>\n",
       "      <td>24.3878</td>\n",
       "      <td>8.0</td>\n",
       "      <td>217.0</td>\n",
       "      <td>4.1</td>\n",
       "      <td>3.6</td>\n",
       "      <td>4.1</td>\n",
       "    </tr>\n",
       "    <tr>\n",
       "      <th>10463</th>\n",
       "      <td>24.3878</td>\n",
       "      <td>18.0</td>\n",
       "      <td>233.0</td>\n",
       "      <td>4.6</td>\n",
       "      <td>4.6</td>\n",
       "      <td>4.5</td>\n",
       "    </tr>\n",
       "    <tr>\n",
       "      <th>10464</th>\n",
       "      <td>12.1878</td>\n",
       "      <td>1.0</td>\n",
       "      <td>48.0</td>\n",
       "      <td>5.0</td>\n",
       "      <td>5.0</td>\n",
       "      <td>5.0</td>\n",
       "    </tr>\n",
       "    <tr>\n",
       "      <th>10465</th>\n",
       "      <td>12.1878</td>\n",
       "      <td>11.0</td>\n",
       "      <td>109.0</td>\n",
       "      <td>4.5</td>\n",
       "      <td>4.7</td>\n",
       "      <td>4.8</td>\n",
       "    </tr>\n",
       "  </tbody>\n",
       "</table>\n",
       "<p>10466 rows × 6 columns</p>\n",
       "</div>"
      ],
      "text/plain": [
       "       list_price  num_reviews  piece_count  play_star_rating  star_rating  \\\n",
       "0         29.9900          2.0        277.0               4.0          4.5   \n",
       "1         19.9900          2.0        168.0               4.0          5.0   \n",
       "2         12.9900         11.0         74.0               4.3          4.3   \n",
       "3         99.9900         23.0       1032.0               3.6          4.6   \n",
       "4         79.9900         14.0        744.0               3.2          4.6   \n",
       "5         59.9900          7.0        597.0               3.7          4.9   \n",
       "6         59.9900         37.0        598.0               3.7          4.2   \n",
       "7         49.9900         24.0        780.0               4.4          4.7   \n",
       "8         39.9900         23.0        468.0               3.6          4.7   \n",
       "9         39.9900         11.0        444.0               3.6          4.8   \n",
       "10        39.9900         14.0        386.0               4.1          4.4   \n",
       "11        34.9900         53.0        321.0               3.2          4.6   \n",
       "12        29.9900          7.0        361.0               4.2          4.6   \n",
       "13       159.9900         63.0        847.0               3.8          3.4   \n",
       "14        29.9900         13.0        708.0               4.7          4.8   \n",
       "15        19.9900          1.0        234.0               3.0          5.0   \n",
       "16        19.9900          1.0        160.0               5.0          5.0   \n",
       "17         9.9900          1.0        149.0               2.0          3.0   \n",
       "18         9.9900          1.0        141.0               2.0          4.0   \n",
       "19         9.9900          3.0        101.0               4.0          4.7   \n",
       "20         9.9900          2.0        105.0               3.0          5.0   \n",
       "21         9.9900          1.0        113.0               5.0          5.0   \n",
       "22         9.9900          2.0         91.0               3.0          4.5   \n",
       "23         9.9900          7.0        140.0               3.2          4.9   \n",
       "24         9.9900          5.0        143.0               4.6          5.0   \n",
       "25         9.9900          3.0        122.0               2.7          4.0   \n",
       "26         9.9900          5.0        130.0               4.3          5.0   \n",
       "27         9.9900          3.0        119.0               4.5          5.0   \n",
       "28         9.9900          1.0        135.0               1.0          4.0   \n",
       "29         9.9900          2.0        108.0               3.5          5.0   \n",
       "...           ...          ...          ...               ...          ...   \n",
       "10436     48.7878          5.0        267.0               3.6          3.2   \n",
       "10437     48.7878         12.0        293.0               4.9          4.8   \n",
       "10438     42.6878         24.0        305.0               4.5          4.8   \n",
       "10439     42.6878         18.0        254.0               4.2          4.2   \n",
       "10440     30.4878          2.0        198.0               4.0          4.5   \n",
       "10441     30.4878          8.0        204.0               4.1          4.4   \n",
       "10442     30.4878         19.0        201.0               4.1          4.6   \n",
       "10443     18.2878          7.0        141.0               4.0          4.1   \n",
       "10444     18.2878         18.0        124.0               4.5          4.7   \n",
       "10445      4.8678         13.0          8.0               4.3          4.8   \n",
       "10446    103.6878          9.0        643.0               4.4          4.8   \n",
       "10447    365.9878         88.0       4867.0               4.8          4.9   \n",
       "10448    225.6878         52.0       2295.0               4.7          4.9   \n",
       "10449    134.1878         15.0       1403.0               4.5          4.8   \n",
       "10450    103.6878          9.0        830.0               4.6          4.9   \n",
       "10451    103.6878         11.0       1202.0               4.7          4.5   \n",
       "10452     97.5878          6.0        914.0               4.8          4.8   \n",
       "10453     97.5878         19.0        944.0               3.6          4.2   \n",
       "10454     82.9478          8.0        876.0               4.7          5.0   \n",
       "10455     73.1878          8.0        747.0               4.3          4.5   \n",
       "10456     60.9878          7.0        521.0               4.7          4.3   \n",
       "10457     60.9878         29.0        544.0               4.6          4.7   \n",
       "10458     48.7878         21.0        494.0               4.6          4.5   \n",
       "10459     36.5878         10.0        312.0               3.5          4.0   \n",
       "10460     36.5878          8.0        341.0               4.2          4.6   \n",
       "10461     36.5878          6.0        341.0               4.4          4.3   \n",
       "10462     24.3878          8.0        217.0               4.1          3.6   \n",
       "10463     24.3878         18.0        233.0               4.6          4.6   \n",
       "10464     12.1878          1.0         48.0               5.0          5.0   \n",
       "10465     12.1878         11.0        109.0               4.5          4.7   \n",
       "\n",
       "       val_star_rating  \n",
       "0                  4.0  \n",
       "1                  4.0  \n",
       "2                  4.1  \n",
       "3                  4.3  \n",
       "4                  4.1  \n",
       "5                  4.4  \n",
       "6                  4.1  \n",
       "7                  4.3  \n",
       "8                  4.1  \n",
       "9                  4.5  \n",
       "10                 3.6  \n",
       "11                 4.4  \n",
       "12                 4.2  \n",
       "13                 3.5  \n",
       "14                 4.8  \n",
       "15                 5.0  \n",
       "16                 5.0  \n",
       "17                 4.0  \n",
       "18                 4.0  \n",
       "19                 4.5  \n",
       "20                 5.0  \n",
       "21                 5.0  \n",
       "22                 4.0  \n",
       "23                 4.7  \n",
       "24                 5.0  \n",
       "25                 3.0  \n",
       "26                 4.8  \n",
       "27                 4.5  \n",
       "28                 3.0  \n",
       "29                 4.0  \n",
       "...                ...  \n",
       "10436              3.4  \n",
       "10437              4.6  \n",
       "10438              4.4  \n",
       "10439              4.4  \n",
       "10440              4.0  \n",
       "10441              4.1  \n",
       "10442              4.4  \n",
       "10443              4.4  \n",
       "10444              4.6  \n",
       "10445              4.0  \n",
       "10446              3.5  \n",
       "10447              4.8  \n",
       "10448              4.8  \n",
       "10449              4.8  \n",
       "10450              4.8  \n",
       "10451              4.4  \n",
       "10452              4.7  \n",
       "10453              4.6  \n",
       "10454              4.6  \n",
       "10455              4.5  \n",
       "10456              5.0  \n",
       "10457              4.5  \n",
       "10458              4.8  \n",
       "10459              3.6  \n",
       "10460              4.5  \n",
       "10461              4.2  \n",
       "10462              4.1  \n",
       "10463              4.5  \n",
       "10464              5.0  \n",
       "10465              4.8  \n",
       "\n",
       "[10466 rows x 6 columns]"
      ]
     },
     "execution_count": 48,
     "metadata": {},
     "output_type": "execute_result"
    }
   ],
   "source": [
    "## Data preprocessing\n",
    "df = pd.read_csv(\"lego_sets.csv\") #Creating a Pandas Dataframe\n",
    "\n",
    "# Dropping all unnecessary columns\n",
    "df = df.drop([\"ages\",\"prod_desc\",\"prod_id\",\"prod_long_desc\", \n",
    "              \"review_difficulty\", \"set_name\", \"theme_name\", \n",
    "              \"country\"], axis = 1)\n",
    "\n",
    "# Dropping all nan values\n",
    "df = df.dropna(axis = 0, how ='any')\n",
    "\n",
    "# Resetting index\n",
    "df = df.reset_index().drop(['index'], axis=1)\n",
    "\n",
    "df"
   ]
  },
  {
   "cell_type": "code",
   "execution_count": 49,
   "metadata": {},
   "outputs": [
    {
     "data": {
      "text/plain": [
       "array([4. , 4.1, 4.3, 4.4, 4.5, 3.6, 4.2, 3.5, 4.8, 5. , 4.7, 3. , 4.6,\n",
       "       4.9, 3.8, 3.3, 2.5, 2.7, 2.2, 2.3, 2.8, 2. , 2.9, 3.2, 3.9, 3.4,\n",
       "       2.6, 3.7, 1. , 1.8, 2.4, 1.9, 3.1])"
      ]
     },
     "execution_count": 49,
     "metadata": {},
     "output_type": "execute_result"
    }
   ],
   "source": [
    "# Validating all nan were dropped\n",
    "df[\"val_star_rating\"].unique()"
   ]
  },
  {
   "cell_type": "code",
   "execution_count": 50,
   "metadata": {},
   "outputs": [
    {
     "data": {
      "text/html": [
       "<div>\n",
       "<style scoped>\n",
       "    .dataframe tbody tr th:only-of-type {\n",
       "        vertical-align: middle;\n",
       "    }\n",
       "\n",
       "    .dataframe tbody tr th {\n",
       "        vertical-align: top;\n",
       "    }\n",
       "\n",
       "    .dataframe thead th {\n",
       "        text-align: right;\n",
       "    }\n",
       "</style>\n",
       "<table border=\"1\" class=\"dataframe\">\n",
       "  <thead>\n",
       "    <tr style=\"text-align: right;\">\n",
       "      <th></th>\n",
       "      <th>list_price</th>\n",
       "      <th>num_reviews</th>\n",
       "      <th>piece_count</th>\n",
       "      <th>play_star_rating</th>\n",
       "      <th>star_rating</th>\n",
       "      <th>val_star_rating</th>\n",
       "    </tr>\n",
       "  </thead>\n",
       "  <tbody>\n",
       "    <tr>\n",
       "      <th>count</th>\n",
       "      <td>10466.000000</td>\n",
       "      <td>10466.000000</td>\n",
       "      <td>10466.000000</td>\n",
       "      <td>10466.000000</td>\n",
       "      <td>10466.000000</td>\n",
       "      <td>10466.000000</td>\n",
       "    </tr>\n",
       "    <tr>\n",
       "      <th>mean</th>\n",
       "      <td>70.436748</td>\n",
       "      <td>17.088859</td>\n",
       "      <td>552.525511</td>\n",
       "      <td>4.336375</td>\n",
       "      <td>4.508016</td>\n",
       "      <td>4.228960</td>\n",
       "    </tr>\n",
       "    <tr>\n",
       "      <th>std</th>\n",
       "      <td>97.893772</td>\n",
       "      <td>36.614558</td>\n",
       "      <td>875.082280</td>\n",
       "      <td>0.652030</td>\n",
       "      <td>0.519309</td>\n",
       "      <td>0.660282</td>\n",
       "    </tr>\n",
       "    <tr>\n",
       "      <th>min</th>\n",
       "      <td>2.272400</td>\n",
       "      <td>1.000000</td>\n",
       "      <td>1.000000</td>\n",
       "      <td>1.000000</td>\n",
       "      <td>1.800000</td>\n",
       "      <td>1.000000</td>\n",
       "    </tr>\n",
       "    <tr>\n",
       "      <th>25%</th>\n",
       "      <td>20.986000</td>\n",
       "      <td>2.000000</td>\n",
       "      <td>115.000000</td>\n",
       "      <td>4.000000</td>\n",
       "      <td>4.300000</td>\n",
       "      <td>4.000000</td>\n",
       "    </tr>\n",
       "    <tr>\n",
       "      <th>50%</th>\n",
       "      <td>36.587800</td>\n",
       "      <td>6.000000</td>\n",
       "      <td>249.000000</td>\n",
       "      <td>4.500000</td>\n",
       "      <td>4.600000</td>\n",
       "      <td>4.300000</td>\n",
       "    </tr>\n",
       "    <tr>\n",
       "      <th>75%</th>\n",
       "      <td>79.287800</td>\n",
       "      <td>14.000000</td>\n",
       "      <td>603.000000</td>\n",
       "      <td>4.800000</td>\n",
       "      <td>4.900000</td>\n",
       "      <td>4.700000</td>\n",
       "    </tr>\n",
       "    <tr>\n",
       "      <th>max</th>\n",
       "      <td>1104.870000</td>\n",
       "      <td>367.000000</td>\n",
       "      <td>7541.000000</td>\n",
       "      <td>5.000000</td>\n",
       "      <td>5.000000</td>\n",
       "      <td>5.000000</td>\n",
       "    </tr>\n",
       "  </tbody>\n",
       "</table>\n",
       "</div>"
      ],
      "text/plain": [
       "         list_price   num_reviews   piece_count  play_star_rating  \\\n",
       "count  10466.000000  10466.000000  10466.000000      10466.000000   \n",
       "mean      70.436748     17.088859    552.525511          4.336375   \n",
       "std       97.893772     36.614558    875.082280          0.652030   \n",
       "min        2.272400      1.000000      1.000000          1.000000   \n",
       "25%       20.986000      2.000000    115.000000          4.000000   \n",
       "50%       36.587800      6.000000    249.000000          4.500000   \n",
       "75%       79.287800     14.000000    603.000000          4.800000   \n",
       "max     1104.870000    367.000000   7541.000000          5.000000   \n",
       "\n",
       "        star_rating  val_star_rating  \n",
       "count  10466.000000     10466.000000  \n",
       "mean       4.508016         4.228960  \n",
       "std        0.519309         0.660282  \n",
       "min        1.800000         1.000000  \n",
       "25%        4.300000         4.000000  \n",
       "50%        4.600000         4.300000  \n",
       "75%        4.900000         4.700000  \n",
       "max        5.000000         5.000000  "
      ]
     },
     "execution_count": 50,
     "metadata": {},
     "output_type": "execute_result"
    }
   ],
   "source": [
    "df.describe()"
   ]
  },
  {
   "cell_type": "code",
   "execution_count": 51,
   "metadata": {},
   "outputs": [],
   "source": [
    "# Extracting each column into an array\n",
    "price, n_reviews, n_pieces, p_rating, rating, v_rating = df.T.values"
   ]
  },
  {
   "cell_type": "markdown",
   "metadata": {},
   "source": [
    "## Zooming into the grid"
   ]
  },
  {
   "cell_type": "code",
   "execution_count": 52,
   "metadata": {},
   "outputs": [],
   "source": [
    "# xmin = -0.1\n",
    "# xmax = 400\n",
    "# ymin = 3.5\n",
    "# ymax = 5\n",
    "# plt.axis([xmin,xmax,ymin,ymax])"
   ]
  },
  {
   "cell_type": "markdown",
   "metadata": {},
   "source": [
    "## Price vs Rating"
   ]
  },
  {
   "cell_type": "code",
   "execution_count": 53,
   "metadata": {},
   "outputs": [],
   "source": [
    "# Split 80% into a training set, 20% into a test set\n",
    "price_train, price_test, rating_train, rating_test = train_test_split(price, rating, train_size=0.8, random_state=42)"
   ]
  },
  {
   "cell_type": "code",
   "execution_count": 54,
   "metadata": {},
   "outputs": [],
   "source": [
    "## Creating the augmented matrix (A1)\n",
    "# Creating column of ones\n",
    "ones = np.ones((len(rating_train),1))\n",
    "\n",
    "# Combining columns to make A1\n",
    "A1 = np.hstack((ones,price_train.reshape(-1,1)))"
   ]
  },
  {
   "cell_type": "code",
   "execution_count": 55,
   "metadata": {},
   "outputs": [],
   "source": [
    "# Solving for the weight vector\n",
    "w1 = np.linalg.lstsq(A1,rating_train,rcond=None)[0]"
   ]
  },
  {
   "cell_type": "code",
   "execution_count": 56,
   "metadata": {},
   "outputs": [
    {
     "name": "stdout",
     "output_type": "stream",
     "text": [
      "Rating = 4.503169925177405 + 3.2985250544001436e-05 * price\n"
     ]
    }
   ],
   "source": [
    "# Price vs Rating model:\n",
    "print(\"Rating =\", w1[0], \"+\", w1[1],\"* price\")"
   ]
  },
  {
   "cell_type": "code",
   "execution_count": 57,
   "metadata": {},
   "outputs": [],
   "source": [
    "## Predict ratings according the model\n",
    "# Creating a smooth range\n",
    "X1 = np.linspace(min(price_test), max(price), len(price_test))\n",
    "\n",
    "# Predicting\n",
    "rating_pred1 = w1[0] + X1*w1[1]"
   ]
  },
  {
   "cell_type": "code",
   "execution_count": 58,
   "metadata": {},
   "outputs": [
    {
     "data": {
      "image/png": "[encoded data removed]",
      "text/plain": [
       "<Figure size 432x288 with 1 Axes>"
      ]
     },
     "metadata": {
      "needs_background": "light"
     },
     "output_type": "display_data"
    }
   ],
   "source": [
    "\n",
    "## Visualize the model\n",
    "plt.scatter(price_test, rating_test, color='r', label='Test', s=10) # Plot test data points\n",
    "\n",
    "# Plot the model\n",
    "plt.title(\"Price vs Ratings\")\n",
    "plt.ylabel(\"Ratings\")\n",
    "plt.xlabel(\"Price\")\n",
    "plt.plot(X1, rating_pred1, color='g', label='Price Model', linewidth=4, solid_capstyle='round')\n",
    "\n",
    "plt.show()"
   ]
  },
  {
   "cell_type": "markdown",
   "metadata": {},
   "source": [
    "## Number of Reviews vs Rating"
   ]
  },
  {
   "cell_type": "code",
   "execution_count": 59,
   "metadata": {},
   "outputs": [],
   "source": [
    "# Split 80% into a training set, 20% into a test set\n",
    "reviews_train, reviews_test = train_test_split(n_reviews, train_size=0.8, random_state=42)"
   ]
  },
  {
   "cell_type": "code",
   "execution_count": 60,
   "metadata": {},
   "outputs": [],
   "source": [
    "# Combining columns to make A2\n",
    "A2 = np.hstack((ones,reviews_train.reshape(-1,1)))"
   ]
  },
  {
   "cell_type": "code",
   "execution_count": 61,
   "metadata": {},
   "outputs": [],
   "source": [
    "# Solving for the weight vector\n",
    "w2 = np.linalg.lstsq(A2,rating_train,rcond=None)[0]"
   ]
  },
  {
   "cell_type": "code",
   "execution_count": 62,
   "metadata": {},
   "outputs": [
    {
     "name": "stdout",
     "output_type": "stream",
     "text": [
      "Rating = 4.502194718317436 + 0.00019477216892437661 * n_reviews\n"
     ]
    }
   ],
   "source": [
    "# N_reviews vs Rating model:\n",
    "print(\"Rating =\", w2[0], \"+\", w2[1],\"* n_reviews\")"
   ]
  },
  {
   "cell_type": "code",
   "execution_count": 63,
   "metadata": {},
   "outputs": [],
   "source": [
    "## Predict ratings according the model\n",
    "X2 = np.linspace(min(reviews_test), max(reviews_test), len(reviews_test)) # Creating a smooth range\n",
    "\n",
    "# Predicting\n",
    "rating_pred2 = w2[0] + X2*w2[1]"
   ]
  },
  {
   "cell_type": "code",
   "execution_count": 64,
   "metadata": {},
   "outputs": [
    {
     "data": {
      "image/png": "[encoded data removed]",
      "text/plain": [
       "<Figure size 432x288 with 1 Axes>"
      ]
     },
     "metadata": {
      "needs_background": "light"
     },
     "output_type": "display_data"
    }
   ],
   "source": [
    "## Visualize the model\n",
    "plt.scatter(reviews_test, rating_test, color='r', label='Test', s=10) # Plot test data points \n",
    "\n",
    "## Plot the model\n",
    "# plt.margins(0.016) # Zooming in\n",
    "\n",
    "# Plotting\n",
    "plt.title(\"Reviews vs Ratings\")\n",
    "plt.ylabel(\"Ratings\")\n",
    "plt.xlabel(\"Reviews\")\n",
    "plt.plot(X2, rating_pred2, color='g', label='n_Reviews Model', linewidth=4, solid_capstyle='round')\n",
    "plt.legend()\n",
    "plt.show()\n"
   ]
  },
  {
   "cell_type": "markdown",
   "metadata": {},
   "source": [
    "## Number of Pieces vs Rating"
   ]
  },
  {
   "cell_type": "code",
   "execution_count": 65,
   "metadata": {},
   "outputs": [],
   "source": [
    "# Split 80% into a training set, 20% into a test set\n",
    "pieces_train, pieces_test = train_test_split(n_pieces, train_size=0.8, random_state=42)"
   ]
  },
  {
   "cell_type": "code",
   "execution_count": 66,
   "metadata": {},
   "outputs": [],
   "source": [
    "# Combining columns to make A4\n",
    "A3 = np.hstack((ones,pieces_train.reshape(-1,1)))"
   ]
  },
  {
   "cell_type": "code",
   "execution_count": 67,
   "metadata": {},
   "outputs": [],
   "source": [
    "# Solving for the weight vector\n",
    "w3 = np.linalg.lstsq(A3,rating_train,rcond=None)[0]"
   ]
  },
  {
   "cell_type": "code",
   "execution_count": 68,
   "metadata": {},
   "outputs": [
    {
     "name": "stdout",
     "output_type": "stream",
     "text": [
      "Rating = 4.478583337287481 + 4.842768165333498e-05 * n_pieces\n"
     ]
    }
   ],
   "source": [
    "# N_reviews vs Rating model:\n",
    "print(\"Rating =\", w3[0], \"+\", w3[1],\"* n_pieces\")"
   ]
  },
  {
   "cell_type": "code",
   "execution_count": 69,
   "metadata": {},
   "outputs": [],
   "source": [
    "## Predict ratings according the model\n",
    "X3 = np.linspace(min(pieces_test), max(pieces_test), len(pieces_test)) # Creating a smooth range\n",
    "\n",
    "# Predicting\n",
    "rating_pred3 = w3[0] + X3*w3[1]"
   ]
  },
  {
   "cell_type": "code",
   "execution_count": 70,
   "metadata": {},
   "outputs": [
    {
     "data": {
      "image/png": "[encoded data removed]",
      "text/plain": [
       "<Figure size 432x288 with 1 Axes>"
      ]
     },
     "metadata": {
      "needs_background": "light"
     },
     "output_type": "display_data"
    }
   ],
   "source": [
    "## Visualize the model\n",
    "plt.scatter(pieces_test, rating_test, color='r', label='Test', s=10) # Plot test data points\n",
    "\n",
    "## Plot the model\n",
    "plt.title(\"Pieces vs Ratings\")\n",
    "plt.ylabel(\"Ratings\")\n",
    "plt.xlabel(\"Pieces\")\n",
    "plt.plot(X3, rating_pred3, color='g', label='n_Pieces Model', linewidth=4, solid_capstyle='round')\n",
    "plt.legend()\n",
    "plt.show()"
   ]
  },
  {
   "cell_type": "markdown",
   "metadata": {},
   "source": [
    "## Play Rating vs Rating"
   ]
  },
  {
   "cell_type": "code",
   "execution_count": 71,
   "metadata": {},
   "outputs": [],
   "source": [
    "# Split 80% into a training set, 20% into a test set\n",
    "playrating_train, playrating_test = train_test_split(p_rating, train_size=0.8, random_state=42)"
   ]
  },
  {
   "cell_type": "code",
   "execution_count": 72,
   "metadata": {},
   "outputs": [],
   "source": [
    "# Combining columns to make A4\n",
    "A4 = np.hstack((ones,playrating_train.reshape(-1,1)))"
   ]
  },
  {
   "cell_type": "code",
   "execution_count": 73,
   "metadata": {},
   "outputs": [],
   "source": [
    "# Solving for the weight vector\n",
    "w4 = np.linalg.lstsq(A4,rating_train,rcond=None)[0]"
   ]
  },
  {
   "cell_type": "code",
   "execution_count": 74,
   "metadata": {},
   "outputs": [
    {
     "name": "stdout",
     "output_type": "stream",
     "text": [
      "Rating = 2.4062602492476746 + 0.48429280936512337 * play_rating\n"
     ]
    }
   ],
   "source": [
    "# Play Rating vs Rating model:\n",
    "print(\"Rating =\", w4[0], \"+\", w4[1],\"* play_rating\")"
   ]
  },
  {
   "cell_type": "code",
   "execution_count": 75,
   "metadata": {},
   "outputs": [],
   "source": [
    "## Predict ratings according the model\n",
    "X4 = np.linspace(min(playrating_test), max(playrating_test), len(playrating_test)) # Creating a smooth range\n",
    "\n",
    "# Predicting\n",
    "rating_pred4 = w4[0] + X4*w4[1]"
   ]
  },
  {
   "cell_type": "code",
   "execution_count": 76,
   "metadata": {},
   "outputs": [
    {
     "data": {
      "image/png": "[encoded data removed]",
      "text/plain": [
       "<Figure size 432x288 with 1 Axes>"
      ]
     },
     "metadata": {
      "needs_background": "light"
     },
     "output_type": "display_data"
    }
   ],
   "source": [
    "## Visualize the model\n",
    "plt.scatter(playrating_test, rating_test, color='r', label='Test', s=10) # Plot test data points\n",
    "\n",
    "## Plot the model\n",
    "plt.title(\"Play Rating vs Ratings\")\n",
    "plt.ylabel(\"Ratings\")\n",
    "plt.xlabel(\"Play Rating\")\n",
    "plt.plot(X4, rating_pred4, color='g', label='Play_rating Model', linewidth=4, solid_capstyle='round')\n",
    "plt.legend()\n",
    "plt.show()"
   ]
  },
  {
   "cell_type": "markdown",
   "metadata": {},
   "source": [
    "## Value Rating vs Rating"
   ]
  },
  {
   "cell_type": "code",
   "execution_count": 77,
   "metadata": {},
   "outputs": [],
   "source": [
    "# Split 80% into a training set, 20% into a test set\n",
    "valrating_train, valrating_test = train_test_split(v_rating, train_size=0.8, random_state=42)"
   ]
  },
  {
   "cell_type": "code",
   "execution_count": 78,
   "metadata": {},
   "outputs": [],
   "source": [
    "# Combining columns to make A5\n",
    "A5 = np.hstack((ones,valrating_train.reshape(-1,1)))"
   ]
  },
  {
   "cell_type": "code",
   "execution_count": 79,
   "metadata": {},
   "outputs": [],
   "source": [
    "# Solving for the weight vector\n",
    "w5 = np.linalg.lstsq(A5,rating_train,rcond=None)[0]"
   ]
  },
  {
   "cell_type": "code",
   "execution_count": 80,
   "metadata": {},
   "outputs": [
    {
     "name": "stdout",
     "output_type": "stream",
     "text": [
      "Rating = 2.0648407368524744 + 0.577468286723199 * value_rating\n"
     ]
    }
   ],
   "source": [
    "# Value Rating vs Rating model:\n",
    "print(\"Rating =\", w5[0], \"+\", w5[1],\"* value_rating\")"
   ]
  },
  {
   "cell_type": "code",
   "execution_count": 81,
   "metadata": {},
   "outputs": [],
   "source": [
    "## Predict ratings according the model\n",
    "X5 = np.linspace(min(valrating_test), max(valrating_test), len(valrating_test)) # Creating a smooth range\n",
    " \n",
    "# Predicting\n",
    "rating_pred5 = w5[0] + X5*w5[1]"
   ]
  },
  {
   "cell_type": "code",
   "execution_count": 82,
   "metadata": {},
   "outputs": [
    {
     "data": {
      "image/png": "[encoded data removed]",
      "text/plain": [
       "<Figure size 432x288 with 1 Axes>"
      ]
     },
     "metadata": {
      "needs_background": "light"
     },
     "output_type": "display_data"
    }
   ],
   "source": [
    "## Visualize the model\n",
    "plt.scatter(valrating_test, rating_test, color='r', label='Test', s=10) # Plot test data points\n",
    "\n",
    "## Plot the model\n",
    "plt.title(\"Value Ratings vs Ratings\")\n",
    "plt.ylabel(\"Ratings\")\n",
    "plt.xlabel(\"Value Ratings\")\n",
    "plt.plot(X5, rating_pred5, color='g', label='Value_rating Model', linewidth=4, solid_capstyle='round')\n",
    "plt.legend()\n",
    "plt.show()"
   ]
  },
  {
   "cell_type": "markdown",
   "metadata": {},
   "source": [
    "## Multivariate"
   ]
  },
  {
   "cell_type": "code",
   "execution_count": 83,
   "metadata": {},
   "outputs": [],
   "source": [
    "# Combining columns to create A6\n",
    "A6 = np.hstack((ones,price_train.reshape(-1,1), reviews_train.reshape(-1,1), pieces_train.reshape(-1,1), playrating_train.reshape(-1,1), valrating_train.reshape(-1,1)))"
   ]
  },
  {
   "cell_type": "code",
   "execution_count": 84,
   "metadata": {},
   "outputs": [
    {
     "data": {
      "text/plain": [
       "(6,)"
      ]
     },
     "execution_count": 84,
     "metadata": {},
     "output_type": "execute_result"
    }
   ],
   "source": [
    "# Solving for the weight vector\n",
    "w6 = np.linalg.lstsq(A6,rating_train,rcond=None)[0]"
   ]
  },
  {
   "cell_type": "code",
   "execution_count": 85,
   "metadata": {},
   "outputs": [
    {
     "name": "stdout",
     "output_type": "stream",
     "text": [
      "Rating = 1.448636254932866 + -3.6158738092957957e-05 * price +  -9.02821206706928e-05 * n_reviews +  2.230708754699575e-05 * n_pieces + 0.26697919681358107 * play_rating +  0.44748687927990316 * value_rating\n"
     ]
    }
   ],
   "source": [
    "# Multivariate Model\n",
    "print(\"Rating =\", w6[0], \"+\", w6[1],\"* price + \", w6[2],\"* n_reviews + \", w6[3], \"* n_pieces +\", w6[4], \"* play_rating + \", w6[5], \"* value_rating\")"
   ]
  },
  {
   "cell_type": "code",
   "execution_count": 86,
   "metadata": {},
   "outputs": [],
   "source": [
    "# Predicting\n",
    "rating_pred6 = w6[0] + X1*w6[1] + X2*w6[2] + X3*w6[3] + X4*w6[4] + X5*w6[5]"
   ]
  },
  {
   "cell_type": "markdown",
   "metadata": {},
   "source": [
    "## MSE Comparison"
   ]
  },
  {
   "cell_type": "code",
   "execution_count": 87,
   "metadata": {},
   "outputs": [],
   "source": [
    "# MSE for the different predictions\n",
    "from sklearn.metrics import mean_squared_error \n",
    "mse1 = mean_squared_error(rating_test,rating_pred1) \n",
    "mse2 = mean_squared_error(rating_test,rating_pred2) \n",
    "mse3 = mean_squared_error(rating_test,rating_pred3) \n",
    "mse4 = mean_squared_error(rating_test,rating_pred4) \n",
    "mse5 = mean_squared_error(rating_test,rating_pred5)\n",
    "mse6 = mse5 = mean_squared_error(rating_test,rating_pred6)"
   ]
  },
  {
   "cell_type": "code",
   "execution_count": 88,
   "metadata": {},
   "outputs": [
    {
     "name": "stdout",
     "output_type": "stream",
     "text": [
      "MSE for Price vs Rating: 0.2687761322273113\n",
      "MSE for Number of Reviews vs Rating: 0.26937877543208266\n",
      "MSE for Number of Pieces vs Rating: 0.29933878038548184\n",
      "MSE for Play Rating vs Rating: 1.0104633997284733\n",
      "MSE for Value Rating vs Rating: 1.7597019995235583\n",
      "MSE for Multivariate Model: 1.7597019995235583\n"
     ]
    }
   ],
   "source": [
    "print(\"MSE for Price vs Rating:\", mse1)\n",
    "print(\"MSE for Number of Reviews vs Rating:\", mse2)\n",
    "print(\"MSE for Number of Pieces vs Rating:\", mse3)\n",
    "print(\"MSE for Play Rating vs Rating:\", mse4)\n",
    "print(\"MSE for Value Rating vs Rating:\", mse5)\n",
    "print(\"MSE for Multivariate Model:\", mse6)"
   ]
  },
  {
   "cell_type": "code",
   "execution_count": 89,
   "metadata": {},
   "outputs": [
    {
     "data": {
      "image/png": "[encoded data removed]",
      "text/plain": [
       "<Figure size 1080x360 with 1 Axes>"
      ]
     },
     "metadata": {
      "needs_background": "light"
     },
     "output_type": "display_data"
    }
   ],
   "source": [
    "#Plot to show the different MSE values\n",
    "MSE_dict = {'Price vs Rating':mse1, 'No. of Reviews vs Rating':mse2, 'No. of Pieces vs Rating':mse3,  \n",
    "        'Play Rating vs Rating':mse4, 'Value Rating vs Rating':mse5, 'Multivariate':mse6} \n",
    "dict_keys = list(MSE_dict.keys()) \n",
    "dict_values = list(MSE_dict.values()) \n",
    "\n",
    "fig = plt.figure(figsize = (15, 5)) \n",
    "plt.bar(dict_keys, dict_values, width = 0.5)\n",
    "plt.title('MSE across Regression Models')\n",
    "plt.ylabel('MSE')\n",
    "plt.show()"
   ]
  }
 ],
 "metadata": {
  "kernelspec": {
   "display_name": "Python 3",
   "language": "python",
   "name": "python3"
  },
  "language_info": {
   "codemirror_mode": {
    "name": "ipython",
    "version": 3
   },
   "file_extension": ".py",
   "mimetype": "text/x-python",
   "name": "python",
   "nbconvert_exporter": "python",
   "pygments_lexer": "ipython3",
   "version": "3.9.6"
  }
 },
 "nbformat": 4,
 "nbformat_minor": 4
}
